{
 "cells": [
  {
   "cell_type": "markdown",
   "id": "1ec03d0e",
   "metadata": {},
   "source": [
    "## pip "
   ]
  },
  {
   "cell_type": "code",
   "execution_count": 1,
   "id": "2c5ee71d",
   "metadata": {},
   "outputs": [],
   "source": [
    "!pip list --format=freeze > requirements.txt"
   ]
  },
  {
   "cell_type": "code",
   "execution_count": null,
   "id": "4cacf0a3",
   "metadata": {},
   "outputs": [],
   "source": []
  },
  {
   "cell_type": "markdown",
   "id": "2bc52cf6",
   "metadata": {},
   "source": [
    "# conda"
   ]
  },
  {
   "cell_type": "code",
   "execution_count": 2,
   "id": "9d9438c4",
   "metadata": {},
   "outputs": [],
   "source": [
    "!conda env export --no-builds > conda_env.yml"
   ]
  },
  {
   "cell_type": "code",
   "execution_count": 3,
   "id": "f140c8a9",
   "metadata": {},
   "outputs": [],
   "source": [
    "!conda list -e > conda_env.txt"
   ]
  },
  {
   "cell_type": "code",
   "execution_count": null,
   "id": "0f355471",
   "metadata": {},
   "outputs": [],
   "source": []
  }
 ],
 "metadata": {
  "kernelspec": {
   "display_name": "Python 3 (ipykernel)",
   "language": "python",
   "name": "python3"
  },
  "language_info": {
   "codemirror_mode": {
    "name": "ipython",
    "version": 3
   },
   "file_extension": ".py",
   "mimetype": "text/x-python",
   "name": "python",
   "nbconvert_exporter": "python",
   "pygments_lexer": "ipython3",
   "version": "3.7.10"
  }
 },
 "nbformat": 4,
 "nbformat_minor": 5
}
