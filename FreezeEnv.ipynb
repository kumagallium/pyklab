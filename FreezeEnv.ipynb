{
 "cells": [
  {
   "cell_type": "markdown",
   "id": "77458f57-8907-4b3d-9c24-0134493ee2ff",
   "metadata": {},
   "source": [
    "## pip "
   ]
  },
  {
   "cell_type": "code",
   "execution_count": 1,
   "id": "3b8f114e-f659-4f1d-a0fe-1952e06058b7",
   "metadata": {},
   "outputs": [],
   "source": [
    "!pip freeze > requirements.txt"
   ]
  },
  {
   "cell_type": "code",
   "execution_count": null,
   "id": "d162d30d-e54d-404b-bbae-5030c64c2b66",
   "metadata": {},
   "outputs": [],
   "source": []
  },
  {
   "cell_type": "markdown",
   "id": "734f34be-6afb-4460-9c17-eb250799ae85",
   "metadata": {},
   "source": [
    "# conda"
   ]
  },
  {
   "cell_type": "code",
   "execution_count": 2,
   "id": "f85e8e5e-7711-46eb-8e8e-d43297d07810",
   "metadata": {},
   "outputs": [],
   "source": [
    "!conda list --explicit > env_pyklab.txt"
   ]
  },
  {
   "cell_type": "code",
   "execution_count": null,
   "id": "97064a0c-c9fc-470f-956e-60a528287145",
   "metadata": {},
   "outputs": [],
   "source": []
  }
 ],
 "metadata": {
  "kernelspec": {
   "display_name": "Python 3 (ipykernel)",
   "language": "python",
   "name": "python3"
  },
  "language_info": {
   "codemirror_mode": {
    "name": "ipython",
    "version": 3
   },
   "file_extension": ".py",
   "mimetype": "text/x-python",
   "name": "python",
   "nbconvert_exporter": "python",
   "pygments_lexer": "ipython3",
   "version": "3.8.12"
  }
 },
 "nbformat": 4,
 "nbformat_minor": 5
}
