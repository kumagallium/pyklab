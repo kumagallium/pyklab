{
 "cells": [
  {
   "cell_type": "markdown",
   "id": "77458f57-8907-4b3d-9c24-0134493ee2ff",
   "metadata": {},
   "source": [
    "## pip "
   ]
  },
  {
   "cell_type": "code",
   "execution_count": 1,
   "id": "3b8f114e-f659-4f1d-a0fe-1952e06058b7",
   "metadata": {},
   "outputs": [],
   "source": [
    "!pip list --format=freeze > requirements.txt"
   ]
  },
  {
   "cell_type": "code",
   "execution_count": null,
   "id": "ea7739a2-292d-47f3-8681-5cb969d3b685",
   "metadata": {},
   "outputs": [],
   "source": []
  },
  {
   "cell_type": "markdown",
   "id": "734f34be-6afb-4460-9c17-eb250799ae85",
   "metadata": {},
   "source": [
    "# conda"
   ]
  },
  {
   "cell_type": "code",
   "execution_count": 2,
   "id": "f85e8e5e-7711-46eb-8e8e-d43297d07810",
   "metadata": {},
   "outputs": [],
   "source": [
    "!conda env export --no-builds > conda_env.yml"
   ]
  },
  {
   "cell_type": "code",
   "execution_count": 4,
   "id": "5bdde9b9-6c80-4b6f-a280-1d314f870d5b",
   "metadata": {},
   "outputs": [
    {
     "name": "stdout",
     "output_type": "stream",
     "text": [
      "name: pyklab_env\n",
      "channels:\n",
      "  - conda-forge\n",
      "  - defaults\n",
      "dependencies:\n",
      "  - ca-certificates=2021.10.8=h033912b_0\n",
      "  - libcxx=12.0.1=habf9029_0\n",
      "  - libffi=3.4.2=he49afe7_4\n",
      "  - libzlib=1.2.11=h9173be1_1013\n",
      "  - ncurses=6.2=h2e338ed_4\n",
      "  - openssl=3.0.0=h0d85af4_1\n",
      "  - pip=21.3=pyhd8ed1ab_0\n",
      "  - python=3.7.10=hf3644f1_104_cpython\n",
      "  - python_abi=3.7=2_cp37m\n",
      "  - readline=8.1=h05e3726_0\n",
      "  - setuptools=58.2.0=py37hf985489_0\n",
      "  - sqlite=3.36.0=h23a322b_2\n",
      "  - tk=8.6.11=h5dbffcc_1\n",
      "  - wheel=0.37.0=pyhd8ed1ab_1\n",
      "  - xz=5.2.5=haf1e3a3_1\n",
      "  - zlib=1.2.11=h9173be1_1013\n",
      "  - pip:\n",
      "    - anyio==3.3.3\n",
      "    - appnope==0.1.2\n",
      "    - argcomplete==1.12.3\n",
      "    - argon2-cffi==21.1.0\n",
      "    - attrs==21.2.0\n",
      "    - babel==2.9.1\n",
      "    - backcall==0.2.0\n",
      "    - beautifulsoup4==4.10.0\n",
      "    - bleach==4.1.0\n",
      "    - certifi==2021.10.8\n",
      "    - cffi==1.15.0\n",
      "    - charset-normalizer==2.0.7\n",
      "    - cycler==0.10.0\n",
      "    - debugpy==1.5.0\n",
      "    - decorator==5.1.0\n",
      "    - defusedxml==0.7.1\n",
      "    - entrypoints==0.3\n",
      "    - future==0.18.2\n",
      "    - idna==3.3\n",
      "    - importlib-metadata==4.8.1\n",
      "    - ipykernel==6.4.1\n",
      "    - ipython==7.28.0\n",
      "    - ipython-genutils==0.2.0\n",
      "    - ipywidgets==7.6.5\n",
      "    - jedi==0.18.0\n",
      "    - jinja2==3.0.2\n",
      "    - json5==0.9.6\n",
      "    - jsonschema==4.1.0\n",
      "    - jupyter-client==7.0.6\n",
      "    - jupyter-core==4.8.1\n",
      "    - jupyter-server==1.11.1\n",
      "    - jupyterlab==3.1.18\n",
      "    - jupyterlab-pygments==0.1.2\n",
      "    - jupyterlab-server==2.8.2\n",
      "    - jupyterlab-widgets==1.0.2\n",
      "    - kiwisolver==1.3.2\n",
      "    - markupsafe==2.0.1\n",
      "    - matplotlib==3.4.3\n",
      "    - matplotlib-inline==0.1.3\n",
      "    - mistune==0.8.4\n",
      "    - monty==2021.8.17\n",
      "    - mpmath==1.2.1\n",
      "    - nbclassic==0.3.2\n",
      "    - nbclient==0.5.4\n",
      "    - nbconvert==6.2.0\n",
      "    - nbformat==5.1.3\n",
      "    - nest-asyncio==1.5.1\n",
      "    - networkx==2.6.3\n",
      "    - notebook==6.4.4\n",
      "    - numpy==1.21.2\n",
      "    - packaging==21.0\n",
      "    - palettable==3.3.0\n",
      "    - pandas==1.3.3\n",
      "    - pandocfilters==1.5.0\n",
      "    - parso==0.8.2\n",
      "    - pexpect==4.8.0\n",
      "    - pickleshare==0.7.5\n",
      "    - pillow==8.3.2\n",
      "    - plotly==5.3.1\n",
      "    - prometheus-client==0.11.0\n",
      "    - prompt-toolkit==3.0.20\n",
      "    - ptyprocess==0.7.0\n",
      "    - pycparser==2.20\n",
      "    - pygments==2.10.0\n",
      "    - pymatgen==2022.0.14\n",
      "    - pyparsing==2.4.7\n",
      "    - pyrsistent==0.18.0\n",
      "    - python-dateutil==2.8.2\n",
      "    - pytz==2021.3\n",
      "    - pyzmq==22.3.0\n",
      "    - requests==2.26.0\n",
      "    - requests-unixsocket==0.2.0\n",
      "    - ruamel-yaml==0.17.16\n",
      "    - ruamel-yaml-clib==0.2.6\n",
      "    - scipy==1.7.1\n",
      "    - send2trash==1.8.0\n",
      "    - six==1.16.0\n",
      "    - sniffio==1.2.0\n",
      "    - soupsieve==2.2.1\n",
      "    - spglib==1.16.1\n",
      "    - sympy==1.9\n",
      "    - tabulate==0.8.9\n",
      "    - tenacity==8.0.1\n",
      "    - terminado==0.12.1\n",
      "    - testpath==0.5.0\n",
      "    - tornado==6.1\n",
      "    - tqdm==4.62.3\n",
      "    - traitlets==5.1.0\n",
      "    - typing-extensions==3.10.0.2\n",
      "    - uncertainties==3.1.6\n",
      "    - urllib3==1.26.7\n",
      "    - wcwidth==0.2.5\n",
      "    - webencodings==0.5.1\n",
      "    - websocket-client==1.2.1\n",
      "    - widgetsnbextension==3.5.1\n",
      "    - zipp==3.6.0\n",
      "prefix: /Users/m-kumagai/opt/anaconda3/envs/pyklab_env\n",
      "\n",
      "Note: you may need to restart the kernel to use updated packages.\n"
     ]
    }
   ],
   "source": [
    "conda env export"
   ]
  },
  {
   "cell_type": "code",
   "execution_count": 3,
   "id": "b42e833a-8e1c-418a-80e8-a13db9074327",
   "metadata": {},
   "outputs": [],
   "source": [
    "!conda list -e > conda_env.txt"
   ]
  },
  {
   "cell_type": "code",
   "execution_count": null,
   "id": "f1856ffd-2609-4cc3-89c5-bc9a66727ac0",
   "metadata": {},
   "outputs": [],
   "source": []
  }
 ],
 "metadata": {
  "kernelspec": {
   "display_name": "Python 3 (ipykernel)",
   "language": "python",
   "name": "python3"
  },
  "language_info": {
   "codemirror_mode": {
    "name": "ipython",
    "version": 3
   },
   "file_extension": ".py",
   "mimetype": "text/x-python",
   "name": "python",
   "nbconvert_exporter": "python",
   "pygments_lexer": "ipython3",
   "version": "3.7.10"
  }
 },
 "nbformat": 4,
 "nbformat_minor": 5
}
