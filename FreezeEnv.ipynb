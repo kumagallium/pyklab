{
 "cells": [
  {
   "cell_type": "markdown",
   "id": "08fbbb95",
   "metadata": {},
   "source": [
    "## pip "
   ]
  },
  {
   "cell_type": "code",
   "execution_count": 1,
   "id": "68ac70c1",
   "metadata": {},
   "outputs": [],
   "source": [
    "!pip list --format=freeze > requirements.txt"
   ]
  },
  {
   "cell_type": "code",
   "execution_count": null,
   "id": "dfed9dec",
   "metadata": {},
   "outputs": [],
   "source": []
  },
  {
   "cell_type": "markdown",
   "id": "f96637cc",
   "metadata": {},
   "source": [
    "# conda"
   ]
  },
  {
   "cell_type": "code",
   "execution_count": 2,
   "id": "6d6fdb47",
   "metadata": {},
   "outputs": [],
   "source": [
    "!conda env export --no-builds > conda_env.yml"
   ]
  },
  {
   "cell_type": "code",
   "execution_count": 3,
   "id": "cd4a6a40",
   "metadata": {},
   "outputs": [],
   "source": [
    "!conda list -e > conda_env.txt"
   ]
  },
  {
   "cell_type": "code",
   "execution_count": null,
   "id": "aec8c1d1",
   "metadata": {},
   "outputs": [],
   "source": []
  },
  {
   "cell_type": "code",
   "execution_count": null,
   "id": "be1f73ba",
   "metadata": {},
   "outputs": [],
   "source": []
  }
 ],
 "metadata": {
  "kernelspec": {
   "display_name": "Python 3 (ipykernel)",
   "language": "python",
   "name": "python3"
  },
  "language_info": {
   "codemirror_mode": {
    "name": "ipython",
    "version": 3
   },
   "file_extension": ".py",
   "mimetype": "text/x-python",
   "name": "python",
   "nbconvert_exporter": "python",
   "pygments_lexer": "ipython3",
   "version": "3.7.10"
  }
 },
 "nbformat": 4,
 "nbformat_minor": 5
}
